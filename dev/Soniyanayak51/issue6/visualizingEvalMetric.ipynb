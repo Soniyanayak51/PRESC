{
 "cells": [
  {
   "cell_type": "markdown",
   "metadata": {},
   "source": [
    "## Importing libraries"
   ]
  },
  {
   "cell_type": "code",
   "execution_count": 1,
   "metadata": {},
   "outputs": [],
   "source": [
    "%load_ext autoreload\n",
    "%autoreload 2\n",
    "import classificationModelFunctions # all classification functions are defined in this module\n",
    "import moduleForEvalMetric as mem  # all plotting functions are defined in this module\n",
    "import pandas as pd\n",
    "import numpy as np\n",
    "import matplotlib.pyplot as plt\n",
    "from sklearn.model_selection import train_test_split\n",
    "from sklearn.metrics import confusion_matrix\n",
    "import seaborn as sns\n",
    "from sklearn.preprocessing import StandardScaler\n",
    "from pandas import set_option\n",
    "from sklearn.svm import SVC\n",
    "from sklearn.linear_model import LogisticRegression\n",
    "from sklearn.model_selection import cross_val_score"
   ]
  },
  {
   "cell_type": "markdown",
   "metadata": {},
   "source": [
    "## Loading the data\n",
    "\n",
    "Loading csv file using pandas."
   ]
  },
  {
   "cell_type": "code",
   "execution_count": 2,
   "metadata": {},
   "outputs": [
    {
     "name": "stdout",
     "output_type": "stream",
     "text": [
      "  Unnamed: 0         X1   X2         X3        X4   X5     X6     X7     X8  \\\n",
      "0         ID  LIMIT_BAL  SEX  EDUCATION  MARRIAGE  AGE  PAY_0  PAY_2  PAY_3   \n",
      "1          1      20000    2          2         1   24      2      2     -1   \n",
      "2          2     120000    2          2         2   26     -1      2      0   \n",
      "3          3      90000    2          2         2   34      0      0      0   \n",
      "4          4      50000    2          2         1   37      0      0      0   \n",
      "\n",
      "      X9  ...        X15        X16        X17       X18       X19       X20  \\\n",
      "0  PAY_4  ...  BILL_AMT4  BILL_AMT5  BILL_AMT6  PAY_AMT1  PAY_AMT2  PAY_AMT3   \n",
      "1     -1  ...          0          0          0         0       689         0   \n",
      "2      0  ...       3272       3455       3261         0      1000      1000   \n",
      "3      0  ...      14331      14948      15549      1518      1500      1000   \n",
      "4      0  ...      28314      28959      29547      2000      2019      1200   \n",
      "\n",
      "        X21       X22       X23                           Y  \n",
      "0  PAY_AMT4  PAY_AMT5  PAY_AMT6  default payment next month  \n",
      "1         0         0         0                           1  \n",
      "2      1000         0      2000                           1  \n",
      "3      1000      1000      5000                           0  \n",
      "4      1100      1069      1000                           0  \n",
      "\n",
      "[5 rows x 25 columns]\n"
     ]
    }
   ],
   "source": [
    "data_path = \"/home/soniya51/Downloads/default of credit card clients.csv\"\n",
    "df = classificationModelFunctions.loadDataAndPrintHead(data_path)"
   ]
  },
  {
   "cell_type": "markdown",
   "metadata": {},
   "source": [
    "## Basic EDA\n",
    "We see that column names are different from what we'd like them to be. So we rename column names to the first row and delete the first row."
   ]
  },
  {
   "cell_type": "code",
   "execution_count": 3,
   "metadata": {},
   "outputs": [
    {
     "data": {
      "text/plain": [
       "Index(['Unnamed: 0', 'X1', 'X2', 'X3', 'X4', 'X5', 'X6', 'X7', 'X8', 'X9',\n",
       "       'X10', 'X11', 'X12', 'X13', 'X14', 'X15', 'X16', 'X17', 'X18', 'X19',\n",
       "       'X20', 'X21', 'X22', 'X23', 'Y'],\n",
       "      dtype='object')"
      ]
     },
     "execution_count": 3,
     "metadata": {},
     "output_type": "execute_result"
    }
   ],
   "source": [
    "df.columns # Column names before"
   ]
  },
  {
   "cell_type": "code",
   "execution_count": 4,
   "metadata": {},
   "outputs": [
    {
     "name": "stdout",
     "output_type": "stream",
     "text": [
      "(30000, 25)\n"
     ]
    },
    {
     "data": {
      "text/plain": [
       "Index(['ID', 'LIMIT_BAL', 'SEX', 'EDUCATION', 'MARRIAGE', 'AGE', 'PAY_0',\n",
       "       'PAY_2', 'PAY_3', 'PAY_4', 'PAY_5', 'PAY_6', 'BILL_AMT1', 'BILL_AMT2',\n",
       "       'BILL_AMT3', 'BILL_AMT4', 'BILL_AMT5', 'BILL_AMT6', 'PAY_AMT1',\n",
       "       'PAY_AMT2', 'PAY_AMT3', 'PAY_AMT4', 'PAY_AMT5', 'PAY_AMT6',\n",
       "       'default payment next month'],\n",
       "      dtype='object', name=0)"
      ]
     },
     "execution_count": 4,
     "metadata": {},
     "output_type": "execute_result"
    }
   ],
   "source": [
    "df = classificationModelFunctions.changeColumnsToFirstRow(df)\n",
    "print(df.shape)\n",
    "df.columns # Column names after"
   ]
  },
  {
   "cell_type": "markdown",
   "metadata": {},
   "source": [
    "### Here we check if there are any null values in any of the columns"
   ]
  },
  {
   "cell_type": "code",
   "execution_count": 5,
   "metadata": {},
   "outputs": [
    {
     "name": "stdout",
     "output_type": "stream",
     "text": [
      "0\n",
      "ID                            0\n",
      "LIMIT_BAL                     0\n",
      "SEX                           0\n",
      "EDUCATION                     0\n",
      "MARRIAGE                      0\n",
      "AGE                           0\n",
      "PAY_0                         0\n",
      "PAY_2                         0\n",
      "PAY_3                         0\n",
      "PAY_4                         0\n",
      "PAY_5                         0\n",
      "PAY_6                         0\n",
      "BILL_AMT1                     0\n",
      "BILL_AMT2                     0\n",
      "BILL_AMT3                     0\n",
      "BILL_AMT4                     0\n",
      "BILL_AMT5                     0\n",
      "BILL_AMT6                     0\n",
      "PAY_AMT1                      0\n",
      "PAY_AMT2                      0\n",
      "PAY_AMT3                      0\n",
      "PAY_AMT4                      0\n",
      "PAY_AMT5                      0\n",
      "PAY_AMT6                      0\n",
      "default payment next month    0\n",
      "dtype: int64\n"
     ]
    }
   ],
   "source": [
    "# basic eda\n",
    "\n",
    "classificationModelFunctions.checkNullValues(df)"
   ]
  },
  {
   "cell_type": "markdown",
   "metadata": {},
   "source": [
    "### We drop the column 'ID' from the main dataframe and calculate a set of features by dropping the label."
   ]
  },
  {
   "cell_type": "code",
   "execution_count": 6,
   "metadata": {},
   "outputs": [
    {
     "data": {
      "text/plain": [
       "(30000, 23)"
      ]
     },
     "execution_count": 6,
     "metadata": {},
     "output_type": "execute_result"
    }
   ],
   "source": [
    "# drop column \"ID\" and make features\n",
    "y, features = classificationModelFunctions.makeFeaturesAndLabel(df)\n",
    "features.shape"
   ]
  },
  {
   "cell_type": "code",
   "execution_count": 7,
   "metadata": {},
   "outputs": [
    {
     "data": {
      "text/html": [
       "<div>\n",
       "<style scoped>\n",
       "    .dataframe tbody tr th:only-of-type {\n",
       "        vertical-align: middle;\n",
       "    }\n",
       "\n",
       "    .dataframe tbody tr th {\n",
       "        vertical-align: top;\n",
       "    }\n",
       "\n",
       "    .dataframe thead th {\n",
       "        text-align: right;\n",
       "    }\n",
       "</style>\n",
       "<table border=\"1\" class=\"dataframe\">\n",
       "  <thead>\n",
       "    <tr style=\"text-align: right;\">\n",
       "      <th></th>\n",
       "      <th>LIMIT_BAL</th>\n",
       "      <th>SEX</th>\n",
       "      <th>EDUCATION</th>\n",
       "      <th>MARRIAGE</th>\n",
       "      <th>AGE</th>\n",
       "      <th>PAY_0</th>\n",
       "      <th>PAY_2</th>\n",
       "      <th>PAY_3</th>\n",
       "      <th>PAY_4</th>\n",
       "      <th>PAY_5</th>\n",
       "      <th>...</th>\n",
       "      <th>BILL_AMT3</th>\n",
       "      <th>BILL_AMT4</th>\n",
       "      <th>BILL_AMT5</th>\n",
       "      <th>BILL_AMT6</th>\n",
       "      <th>PAY_AMT1</th>\n",
       "      <th>PAY_AMT2</th>\n",
       "      <th>PAY_AMT3</th>\n",
       "      <th>PAY_AMT4</th>\n",
       "      <th>PAY_AMT5</th>\n",
       "      <th>PAY_AMT6</th>\n",
       "    </tr>\n",
       "  </thead>\n",
       "  <tbody>\n",
       "    <tr>\n",
       "      <th>1</th>\n",
       "      <td>20000</td>\n",
       "      <td>2</td>\n",
       "      <td>2</td>\n",
       "      <td>1</td>\n",
       "      <td>24</td>\n",
       "      <td>2</td>\n",
       "      <td>2</td>\n",
       "      <td>-1</td>\n",
       "      <td>-1</td>\n",
       "      <td>-2</td>\n",
       "      <td>...</td>\n",
       "      <td>689</td>\n",
       "      <td>0</td>\n",
       "      <td>0</td>\n",
       "      <td>0</td>\n",
       "      <td>0</td>\n",
       "      <td>689</td>\n",
       "      <td>0</td>\n",
       "      <td>0</td>\n",
       "      <td>0</td>\n",
       "      <td>0</td>\n",
       "    </tr>\n",
       "    <tr>\n",
       "      <th>2</th>\n",
       "      <td>120000</td>\n",
       "      <td>2</td>\n",
       "      <td>2</td>\n",
       "      <td>2</td>\n",
       "      <td>26</td>\n",
       "      <td>-1</td>\n",
       "      <td>2</td>\n",
       "      <td>0</td>\n",
       "      <td>0</td>\n",
       "      <td>0</td>\n",
       "      <td>...</td>\n",
       "      <td>2682</td>\n",
       "      <td>3272</td>\n",
       "      <td>3455</td>\n",
       "      <td>3261</td>\n",
       "      <td>0</td>\n",
       "      <td>1000</td>\n",
       "      <td>1000</td>\n",
       "      <td>1000</td>\n",
       "      <td>0</td>\n",
       "      <td>2000</td>\n",
       "    </tr>\n",
       "    <tr>\n",
       "      <th>3</th>\n",
       "      <td>90000</td>\n",
       "      <td>2</td>\n",
       "      <td>2</td>\n",
       "      <td>2</td>\n",
       "      <td>34</td>\n",
       "      <td>0</td>\n",
       "      <td>0</td>\n",
       "      <td>0</td>\n",
       "      <td>0</td>\n",
       "      <td>0</td>\n",
       "      <td>...</td>\n",
       "      <td>13559</td>\n",
       "      <td>14331</td>\n",
       "      <td>14948</td>\n",
       "      <td>15549</td>\n",
       "      <td>1518</td>\n",
       "      <td>1500</td>\n",
       "      <td>1000</td>\n",
       "      <td>1000</td>\n",
       "      <td>1000</td>\n",
       "      <td>5000</td>\n",
       "    </tr>\n",
       "    <tr>\n",
       "      <th>4</th>\n",
       "      <td>50000</td>\n",
       "      <td>2</td>\n",
       "      <td>2</td>\n",
       "      <td>1</td>\n",
       "      <td>37</td>\n",
       "      <td>0</td>\n",
       "      <td>0</td>\n",
       "      <td>0</td>\n",
       "      <td>0</td>\n",
       "      <td>0</td>\n",
       "      <td>...</td>\n",
       "      <td>49291</td>\n",
       "      <td>28314</td>\n",
       "      <td>28959</td>\n",
       "      <td>29547</td>\n",
       "      <td>2000</td>\n",
       "      <td>2019</td>\n",
       "      <td>1200</td>\n",
       "      <td>1100</td>\n",
       "      <td>1069</td>\n",
       "      <td>1000</td>\n",
       "    </tr>\n",
       "    <tr>\n",
       "      <th>5</th>\n",
       "      <td>50000</td>\n",
       "      <td>1</td>\n",
       "      <td>2</td>\n",
       "      <td>1</td>\n",
       "      <td>57</td>\n",
       "      <td>-1</td>\n",
       "      <td>0</td>\n",
       "      <td>-1</td>\n",
       "      <td>0</td>\n",
       "      <td>0</td>\n",
       "      <td>...</td>\n",
       "      <td>35835</td>\n",
       "      <td>20940</td>\n",
       "      <td>19146</td>\n",
       "      <td>19131</td>\n",
       "      <td>2000</td>\n",
       "      <td>36681</td>\n",
       "      <td>10000</td>\n",
       "      <td>9000</td>\n",
       "      <td>689</td>\n",
       "      <td>679</td>\n",
       "    </tr>\n",
       "  </tbody>\n",
       "</table>\n",
       "<p>5 rows × 23 columns</p>\n",
       "</div>"
      ],
      "text/plain": [
       "0 LIMIT_BAL SEX EDUCATION MARRIAGE AGE PAY_0 PAY_2 PAY_3 PAY_4 PAY_5  ...  \\\n",
       "1     20000   2         2        1  24     2     2    -1    -1    -2  ...   \n",
       "2    120000   2         2        2  26    -1     2     0     0     0  ...   \n",
       "3     90000   2         2        2  34     0     0     0     0     0  ...   \n",
       "4     50000   2         2        1  37     0     0     0     0     0  ...   \n",
       "5     50000   1         2        1  57    -1     0    -1     0     0  ...   \n",
       "\n",
       "0 BILL_AMT3 BILL_AMT4 BILL_AMT5 BILL_AMT6 PAY_AMT1 PAY_AMT2 PAY_AMT3 PAY_AMT4  \\\n",
       "1       689         0         0         0        0      689        0        0   \n",
       "2      2682      3272      3455      3261        0     1000     1000     1000   \n",
       "3     13559     14331     14948     15549     1518     1500     1000     1000   \n",
       "4     49291     28314     28959     29547     2000     2019     1200     1100   \n",
       "5     35835     20940     19146     19131     2000    36681    10000     9000   \n",
       "\n",
       "0 PAY_AMT5 PAY_AMT6  \n",
       "1        0        0  \n",
       "2        0     2000  \n",
       "3     1000     5000  \n",
       "4     1069     1000  \n",
       "5      689      679  \n",
       "\n",
       "[5 rows x 23 columns]"
      ]
     },
     "execution_count": 7,
     "metadata": {},
     "output_type": "execute_result"
    }
   ],
   "source": [
    "features.head()"
   ]
  },
  {
   "cell_type": "markdown",
   "metadata": {},
   "source": [
    "## Feature engineering\n",
    "\n",
    "The data has been already encoded and cleaned. However, some categorical data have repeated categories. For instance, the variable ‘education’ has three categories with similar information:\n",
    "4: others, 5: unknown, and 6: unknown\n",
    "\n",
    "Similarly, the column 'marriage' should have three categories: 1 = married, 2 = single, 3 = others but it contains a category '0' which will be joined to the category '3'.\n"
   ]
  },
  {
   "cell_type": "code",
   "execution_count": 8,
   "metadata": {},
   "outputs": [
    {
     "name": "stdout",
     "output_type": "stream",
     "text": [
      "['2' '1' '3' '5' '4' '6' '0']\n",
      "['1' '2' '3' '0']\n"
     ]
    }
   ],
   "source": [
    "# before grouping\n",
    "print(df['EDUCATION'].unique())\n",
    "print(df['MARRIAGE'].unique())"
   ]
  },
  {
   "cell_type": "code",
   "execution_count": 9,
   "metadata": {},
   "outputs": [
    {
     "name": "stdout",
     "output_type": "stream",
     "text": [
      "['2' '1' '3' '4']\n",
      "['1' '2' '3']\n"
     ]
    }
   ],
   "source": [
    "# after grouping\n",
    "classificationModelFunctions.groupUnknownCategories(df)\n",
    "print(df['EDUCATION'].unique())\n",
    "print(df['MARRIAGE'].unique())"
   ]
  },
  {
   "cell_type": "markdown",
   "metadata": {},
   "source": [
    "### Printing a description of the data"
   ]
  },
  {
   "cell_type": "code",
   "execution_count": 10,
   "metadata": {},
   "outputs": [
    {
     "name": "stdout",
     "output_type": "stream",
     "text": [
      "Stats for columns\n",
      "0      LIMIT_BAL    SEX EDUCATION MARRIAGE    AGE  PAY_0  PAY_2  PAY_3  PAY_4  PAY_5  ...  \\\n",
      "count      30000  30000     30000    30000  30000  30000  30000  30000  30000  30000  ...   \n",
      "unique        81      2         4        3     56     11     11     11     11     10  ...   \n",
      "top        50000      2         2        2     29      0      0      0      0      0  ...   \n",
      "freq        3365  18112     14030    15964   1605  14737  15730  15764  16455  16947  ...   \n",
      "\n",
      "0      BILL_AMT4 BILL_AMT5 BILL_AMT6 PAY_AMT1 PAY_AMT2 PAY_AMT3 PAY_AMT4 PAY_AMT5 PAY_AMT6  \\\n",
      "count      30000     30000     30000    30000    30000    30000    30000    30000    30000   \n",
      "unique     21548     21010     20604     7943     7899     7518     6937     6897     6939   \n",
      "top            0         0         0        0        0        0        0        0        0   \n",
      "freq        3195      3506      4020     5249     5396     5968     6408     6703     7173   \n",
      "\n",
      "0      default payment next month  \n",
      "count                       30000  \n",
      "unique                          2  \n",
      "top                             0  \n",
      "freq                        23364  \n",
      "\n",
      "[4 rows x 24 columns]\n"
     ]
    }
   ],
   "source": [
    "set_option('display.width', 100)\n",
    "set_option('precision', 2)\n",
    "\n",
    "print(\"Stats for columns\")\n",
    "print(df.describe())"
   ]
  },
  {
   "cell_type": "markdown",
   "metadata": {},
   "source": [
    "## Visualization of the data\n",
    "We plot some graphs to see the data distribution"
   ]
  },
  {
   "cell_type": "code",
   "execution_count": 11,
   "metadata": {},
   "outputs": [
    {
     "data": {
      "image/png": "[encoded data removed]",
      "text/plain": [
       "<Figure size 432x288 with 1 Axes>"
      ]
     },
     "metadata": {
      "needs_background": "light"
     },
     "output_type": "display_data"
    }
   ],
   "source": [
    "# graph to see the number of default payments\n",
    "\n",
    "classificationModelFunctions.plotGrapthForDefaults(y)"
   ]
  },
  {
   "cell_type": "code",
   "execution_count": 12,
   "metadata": {},
   "outputs": [
    {
     "data": {
      "image/png": "[encoded data removed]",
      "text/plain": [
       "<Figure size 1440x1080 with 9 Axes>"
      ]
     },
     "metadata": {},
     "output_type": "display_data"
    }
   ],
   "source": [
    "# graphs to visualize more attributes\n",
    "\n",
    "classificationModelFunctions.plotGrapthForAttributes(df)"
   ]
  },
  {
   "cell_type": "code",
   "execution_count": 13,
   "metadata": {},
   "outputs": [
    {
     "data": {
      "text/plain": [
       "Index(['LIMIT_BAL', 'SEX', 'EDUCATION', 'MARRIAGE', 'AGE', 'PAY_0', 'PAY_2', 'PAY_3', 'PAY_4',\n",
       "       'PAY_5', 'PAY_6', 'BILL_AMT1', 'BILL_AMT2', 'BILL_AMT3', 'BILL_AMT4', 'BILL_AMT5',\n",
       "       'BILL_AMT6', 'PAY_AMT1', 'PAY_AMT2', 'PAY_AMT3', 'PAY_AMT4', 'PAY_AMT5', 'PAY_AMT6',\n",
       "       'default payment next month'],\n",
       "      dtype='object', name=0)"
      ]
     },
     "execution_count": 13,
     "metadata": {},
     "output_type": "execute_result"
    }
   ],
   "source": [
    "df.columns"
   ]
  },
  {
   "cell_type": "markdown",
   "metadata": {},
   "source": [
    "There are 30,000 credit card clients.\n",
    "\n",
    "Education level is mostly graduate school and university.\n",
    "\n",
    "Most of the clients are either marrined or single (less frequent the other status).\n",
    "\n",
    "## Splitting the data\n",
    "\n",
    "Use sklearn to split the data"
   ]
  },
  {
   "cell_type": "code",
   "execution_count": 14,
   "metadata": {},
   "outputs": [],
   "source": [
    "X_train, X_test, y_train, y_test = classificationModelFunctions.splitData(df, features, y)"
   ]
  },
  {
   "cell_type": "markdown",
   "metadata": {},
   "source": [
    "## Standardization of data \n",
    "\n",
    "All features are centered around zero and have variance one."
   ]
  },
  {
   "cell_type": "code",
   "execution_count": 15,
   "metadata": {},
   "outputs": [
    {
     "name": "stdout",
     "output_type": "stream",
     "text": [
      "35.500238095238096 9.226798440798328\n",
      "0     LIMIT_BAL SEX EDUCATION MARRIAGE   AGE PAY_0 PAY_2 PAY_3 PAY_4 PAY_5  ... BILL_AMT3  \\\n",
      "28466    240000   2         1        1  40.0    -2    -2    -2    -2    -2  ...         0   \n",
      "27623     50000   2         1        2  23.0    -1    -1    -1    -1    -1  ...      2299   \n",
      "28377     50000   2         2        1  36.0     2     2     2     2     0  ...     49125   \n",
      "10918    200000   2         3        1  54.0     6     5     4     3     2  ...    104686   \n",
      "27235    240000   1         1        1  35.0    -1    -1    -1     0    -1  ...     21790   \n",
      "\n",
      "0     BILL_AMT4 BILL_AMT5 BILL_AMT6 PAY_AMT1 PAY_AMT2 PAY_AMT3 PAY_AMT4 PAY_AMT5 PAY_AMT6  \n",
      "28466         0         0         0        0        0        0        0        0        0  \n",
      "27623      4800      9810       660     2548     2321     4800     9810      660     2980  \n",
      "28377     47956     43578     35126        0     4700        0     2004     3500        0  \n",
      "10918    102549    101400         0        0        0        0        0        0        0  \n",
      "27235     17102     13367     22659     2017    21817     1120    13434    22772    22820  \n",
      "\n",
      "[5 rows x 23 columns]\n"
     ]
    },
    {
     "name": "stderr",
     "output_type": "stream",
     "text": [
      "/home/soniya51/miniconda3/envs/tf_gpu/lib/python3.7/site-packages/ipykernel_launcher.py:1: SettingWithCopyWarning: \n",
      "A value is trying to be set on a copy of a slice from a DataFrame.\n",
      "Try using .loc[row_indexer,col_indexer] = value instead\n",
      "\n",
      "See the caveats in the documentation: https://pandas.pydata.org/pandas-docs/stable/user_guide/indexing.html#returning-a-view-versus-a-copy\n",
      "  \"\"\"Entry point for launching an IPython kernel.\n"
     ]
    }
   ],
   "source": [
    "X_train['AGE'] = X_train['AGE'].astype(float)\n",
    "mean = np.mean(X_train['AGE'])\n",
    "std = np.std(X_train['AGE'])\n",
    "print(mean, std)\n",
    "print(X_train.head())"
   ]
  },
  {
   "cell_type": "code",
   "execution_count": 16,
   "metadata": {
    "scrolled": true
   },
   "outputs": [
    {
     "name": "stderr",
     "output_type": "stream",
     "text": [
      "/home/soniya51/Repos/PRESC/dev/Soniyanayak51/issue6/classificationModelFunctions.py:138: SettingWithCopyWarning: \n",
      "A value is trying to be set on a copy of a slice from a DataFrame.\n",
      "Try using .loc[row_indexer,col_indexer] = value instead\n",
      "\n",
      "See the caveats in the documentation: https://pandas.pydata.org/pandas-docs/stable/user_guide/indexing.html#returning-a-view-versus-a-copy\n",
      "  X_test[col_to_norm] = standardize(X_test[col_to_norm], X_train[col_to_norm])\n",
      "/home/soniya51/miniconda3/envs/tf_gpu/lib/python3.7/site-packages/pandas/core/frame.py:2969: SettingWithCopyWarning: \n",
      "A value is trying to be set on a copy of a slice from a DataFrame\n",
      "\n",
      "See the caveats in the documentation: https://pandas.pydata.org/pandas-docs/stable/user_guide/indexing.html#returning-a-view-versus-a-copy\n",
      "  self.loc._setitem_with_indexer((slice(None), indexer), value)\n",
      "/home/soniya51/miniconda3/envs/tf_gpu/lib/python3.7/site-packages/pandas/core/frame.py:2935: SettingWithCopyWarning: \n",
      "A value is trying to be set on a copy of a slice from a DataFrame\n",
      "\n",
      "See the caveats in the documentation: https://pandas.pydata.org/pandas-docs/stable/user_guide/indexing.html#returning-a-view-versus-a-copy\n",
      "  self._setitem_array(key, value)\n",
      "/home/soniya51/Repos/PRESC/dev/Soniyanayak51/issue6/classificationModelFunctions.py:140: SettingWithCopyWarning: \n",
      "A value is trying to be set on a copy of a slice from a DataFrame.\n",
      "Try using .loc[row_indexer,col_indexer] = value instead\n",
      "\n",
      "See the caveats in the documentation: https://pandas.pydata.org/pandas-docs/stable/user_guide/indexing.html#returning-a-view-versus-a-copy\n",
      "  X_train[col_to_norm] = standardize(X_train[col_to_norm], X_train[col_to_norm])\n",
      "/home/soniya51/miniconda3/envs/tf_gpu/lib/python3.7/site-packages/pandas/core/indexing.py:965: SettingWithCopyWarning: \n",
      "A value is trying to be set on a copy of a slice from a DataFrame.\n",
      "Try using .loc[row_indexer,col_indexer] = value instead\n",
      "\n",
      "See the caveats in the documentation: https://pandas.pydata.org/pandas-docs/stable/user_guide/indexing.html#returning-a-view-versus-a-copy\n",
      "  self.obj[item] = s\n"
     ]
    },
    {
     "name": "stdout",
     "output_type": "stream",
     "text": [
      "0      LIMIT_BAL SEX EDUCATION MARRIAGE   AGE PAY_0 PAY_2 PAY_3 PAY_4 PAY_5  ... BILL_AMT3  \\\n",
      "28466       0.56   2         1        1  0.49    -2    -2    -2    -2    -2  ...     -0.68   \n",
      "27623      -0.91   2         1        2 -1.35    -1    -1    -1    -1    -1  ...     -0.64   \n",
      "28377      -0.91   2         2        1  0.05     2     2     2     2     0  ...      0.03   \n",
      "10918       0.25   2         3        1  2.01     6     5     4     3     2  ...      0.84   \n",
      "27235       0.56   1         1        1 -0.05    -1    -1    -1     0    -1  ...     -0.36   \n",
      "\n",
      "0      BILL_AMT4  BILL_AMT5  BILL_AMT6  PAY_AMT1  PAY_AMT2  PAY_AMT3  PAY_AMT4  PAY_AMT5  PAY_AMT6  \n",
      "28466      -0.67      -0.67      -0.66     -0.33     -0.24     -0.29     -0.30     -0.31     -0.30  \n",
      "27623      -0.60      -0.50      -0.65     -0.18     -0.15     -0.02      0.31     -0.27     -0.13  \n",
      "28377       0.08       0.06      -0.06     -0.33     -0.05     -0.29     -0.18     -0.09     -0.30  \n",
      "10918       0.93       1.01      -0.66     -0.33     -0.24     -0.29     -0.30     -0.31     -0.30  \n",
      "27235      -0.41      -0.44      -0.27     -0.21      0.63     -0.22      0.53      1.13      0.99  \n",
      "\n",
      "[5 rows x 23 columns]\n"
     ]
    }
   ],
   "source": [
    "classificationModelFunctions.standardizeData(X_test, X_train)"
   ]
  },
  {
   "cell_type": "markdown",
   "metadata": {},
   "source": [
    "## Model 1: Logistic Regression\n",
    "\n",
    "First, I try a simple logistic regression model for the classification. This is a baseline model and gives an idea if the data is linearly separable."
   ]
  },
  {
   "cell_type": "code",
   "execution_count": 17,
   "metadata": {},
   "outputs": [],
   "source": [
    "lr_preds, logisticRegressionScore = classificationModelFunctions.logisticRegressionModel(X_train, y_train, X_test, y_test)"
   ]
  },
  {
   "cell_type": "markdown",
   "metadata": {},
   "source": [
    "### Accuracy of Logistic Regression model\n",
    "Check the accuracy for test data"
   ]
  },
  {
   "cell_type": "code",
   "execution_count": 18,
   "metadata": {},
   "outputs": [
    {
     "name": "stdout",
     "output_type": "stream",
     "text": [
      "0.8087777777777778\n"
     ]
    }
   ],
   "source": [
    "print(logisticRegressionScore)"
   ]
  },
  {
   "cell_type": "markdown",
   "metadata": {},
   "source": [
    "This accuracy shows that neural networks will overfit the data and simple svm will be a good choice after logistic regression.\n",
    "\n",
    "## Model 2: SVM model\n",
    "\n",
    "I use the sklearn svm model(sklearn.svm.SVC). The accuracy is shown with the confusion matrix.\n",
    "\n",
    "Kernel methods give better results for non-linear binary classifications and we can see that the scatterplot is somewhat not linearly seperable."
   ]
  },
  {
   "cell_type": "code",
   "execution_count": 19,
   "metadata": {},
   "outputs": [
    {
     "name": "stdout",
     "output_type": "stream",
     "text": [
      "[LibSVM]"
     ]
    }
   ],
   "source": [
    "SVMScore, prediction_SVM = classificationModelFunctions.svmModel(X_train, y_train, X_test, y_test)"
   ]
  },
  {
   "cell_type": "markdown",
   "metadata": {},
   "source": [
    "### Accuracy of SVM Model\n",
    "Check the accuracy for test data"
   ]
  },
  {
   "cell_type": "code",
   "execution_count": 20,
   "metadata": {},
   "outputs": [
    {
     "name": "stdout",
     "output_type": "stream",
     "text": [
      "Accuracy - : 0.820\n"
     ]
    }
   ],
   "source": [
    "print (SVMScore)"
   ]
  },
  {
   "cell_type": "markdown",
   "metadata": {},
   "source": [
    "## Confusion matrix\n",
    "tn - true positives, tp - true negatives, fn - false negatives, fp - false positives\n",
    "\n",
    "Sensitivity/Recall = TP/(TP + FN). When it’s actually yes, how often does it predict yes? \n",
    "\n",
    "Specificity = TN/(TN + FP) .When it’s actually no, how often does it predict no?\n",
    "\n",
    "Precision = TP/predicted yes. When it predicts yes, how often is it correct?\n",
    "\n",
    "Analysis of above measures of accuracy for both models.\n",
    "\n",
    "### 1. Confusion matrix for svm model."
   ]
  },
  {
   "cell_type": "code",
   "execution_count": 21,
   "metadata": {},
   "outputs": [
    {
     "data": {
      "text/plain": [
       "array([[6717,  323],\n",
       "       [1300,  660]])"
      ]
     },
     "execution_count": 21,
     "metadata": {},
     "output_type": "execute_result"
    }
   ],
   "source": [
    "tn, fp, fn, tp = confusion_matrix(y_test, prediction_SVM).ravel()\n",
    "confusion_matrix(y_test, prediction_SVM)"
   ]
  },
  {
   "cell_type": "code",
   "execution_count": 22,
   "metadata": {},
   "outputs": [
    {
     "name": "stdout",
     "output_type": "stream",
     "text": [
      "0.336734693877551\n",
      "0.9541193181818182\n",
      "0.671414038657172\n"
     ]
    }
   ],
   "source": [
    "print(tp/(tp+fn)) # Sensitivity/Recall\n",
    "print(tn/(tn+fp)) # Specificity\n",
    "print(tp/(tp+fp)) # Precision"
   ]
  },
  {
   "cell_type": "markdown",
   "metadata": {},
   "source": [
    "\n",
    "\n",
    "\n",
    "\n",
    "### 2. Confusion matrix for logistic regression model."
   ]
  },
  {
   "cell_type": "code",
   "execution_count": 23,
   "metadata": {},
   "outputs": [
    {
     "data": {
      "text/plain": [
       "array([[6824,  216],\n",
       "       [1505,  455]])"
      ]
     },
     "execution_count": 23,
     "metadata": {},
     "output_type": "execute_result"
    }
   ],
   "source": [
    "tn, fp, fn, tp = confusion_matrix(y_test, lr_preds).ravel()\n",
    "confusion_matrix(y_test, lr_preds)"
   ]
  },
  {
   "cell_type": "code",
   "execution_count": 24,
   "metadata": {},
   "outputs": [
    {
     "name": "stdout",
     "output_type": "stream",
     "text": [
      "0.23214285714285715\n",
      "0.9693181818181819\n",
      "0.6780923994038748\n"
     ]
    }
   ],
   "source": [
    "print(tp/(tp+fn)) # Sensitivity/Recall\n",
    "print(tn/(tn+fp)) # Specificity\n",
    "print(tp/(tp+fp)) # Precision"
   ]
  },
  {
   "cell_type": "markdown",
   "metadata": {},
   "source": [
    "## Results\n",
    "\n",
    "### Logistic Regression\n",
    "Test Accuracy - 0.809\n",
    "\n",
    "### SVM\n",
    "Test Accuracy - 0.82"
   ]
  },
  {
   "cell_type": "markdown",
   "metadata": {},
   "source": [
    "## Visualizing evaluation metrics\n",
    "\n",
    "Used the hyperparameter C(Regularization parameter) in SVC model to generate a small dataset for 5 values of C. Used repeated K fold Cross Validation method to generate accuracy for each C against 10 folds. \n",
    "\n",
    "The following plots are used:\n",
    "1. Toy example of a scatterplot\n",
    "2. Mean-Variance plot for accuracy vs C(Spread of accuracy with each C)\n",
    "3. Violin and Box plot\n",
    "\n",
    "#### **I have chosen a small number of C values as the SVM models takes a huge amount of time to run. The following block runs 50(5x10) SVM models"
   ]
  },
  {
   "cell_type": "code",
   "execution_count": 25,
   "metadata": {
    "scrolled": true
   },
   "outputs": [
    {
     "name": "stdout",
     "output_type": "stream",
     "text": [
      "[LibSVM][LibSVM][LibSVM][LibSVM][LibSVM][LibSVM][LibSVM][LibSVM][LibSVM][LibSVM][0.77866667 0.77866667 0.77866667 0.77866667 0.77866667 0.77866667\n",
      " 0.779      0.779      0.779      0.779     ]\n",
      "[LibSVM][LibSVM][LibSVM][LibSVM][LibSVM][LibSVM][LibSVM][LibSVM][LibSVM][LibSVM][0.779      0.77833333 0.779      0.77866667 0.77733333 0.77933333\n",
      " 0.77933333 0.77933333 0.77933333 0.779     ]\n",
      "[LibSVM][LibSVM][LibSVM][LibSVM][LibSVM][LibSVM][LibSVM][LibSVM][LibSVM][LibSVM][0.78       0.77866667 0.77933333 0.78033333 0.77933333 0.77766667\n",
      " 0.77866667 0.781      0.781      0.78033333]\n",
      "[LibSVM][LibSVM][LibSVM][LibSVM][LibSVM][LibSVM][LibSVM][LibSVM][LibSVM][LibSVM][0.77866667 0.77766667 0.77833333 0.77866667 0.77833333 0.77766667\n",
      " 0.779      0.779      0.782      0.78066667]\n",
      "[LibSVM][LibSVM][LibSVM][LibSVM][LibSVM][LibSVM][LibSVM][LibSVM][LibSVM][LibSVM][0.78033333 0.77866667 0.77666667 0.778      0.77833333 0.777\n",
      " 0.778      0.778      0.78066667 0.78033333]\n"
     ]
    }
   ],
   "source": [
    "all_scores, accuracy_parameter_sweep, std_parameter_sweep = mem.generateDatasetUsingC(features, y)"
   ]
  },
  {
   "cell_type": "code",
   "execution_count": 39,
   "metadata": {},
   "outputs": [
    {
     "data": {
      "text/plain": [
       "[array([0.77866667, 0.77866667, 0.77866667, 0.77866667, 0.77866667,\n",
       "        0.77866667, 0.779     , 0.779     , 0.779     , 0.779     ]),\n",
       " array([0.779     , 0.77833333, 0.779     , 0.77866667, 0.77733333,\n",
       "        0.77933333, 0.77933333, 0.77933333, 0.77933333, 0.779     ]),\n",
       " array([0.78      , 0.77866667, 0.77933333, 0.78033333, 0.77933333,\n",
       "        0.77766667, 0.77866667, 0.781     , 0.781     , 0.78033333]),\n",
       " array([0.77866667, 0.77766667, 0.77833333, 0.77866667, 0.77833333,\n",
       "        0.77766667, 0.779     , 0.779     , 0.782     , 0.78066667]),\n",
       " array([0.78033333, 0.77866667, 0.77666667, 0.778     , 0.77833333,\n",
       "        0.777     , 0.778     , 0.778     , 0.78066667, 0.78033333])]"
      ]
     },
     "execution_count": 39,
     "metadata": {},
     "output_type": "execute_result"
    }
   ],
   "source": [
    "all_scores"
   ]
  },
  {
   "cell_type": "code",
   "execution_count": 32,
   "metadata": {},
   "outputs": [
    {
     "data": {
      "text/plain": [
       "[77.88, 77.88666666666667, 77.96333333333334, 77.9, 77.85999999999999]"
      ]
     },
     "execution_count": 32,
     "metadata": {},
     "output_type": "execute_result"
    }
   ],
   "source": [
    "c_sweep =  np.power(2, np.linspace(-4,4,5))\n",
    "accuracy_parameter_sweep"
   ]
  },
  {
   "cell_type": "markdown",
   "metadata": {},
   "source": [
    "### Simple Scatter plot\n",
    "\n",
    "y values in black\n",
    "average y values in red"
   ]
  },
  {
   "cell_type": "code",
   "execution_count": 40,
   "metadata": {},
   "outputs": [
    {
     "data": {
      "image/png": "[encoded data removed]",
      "text/plain": [
       "<Figure size 432x288 with 1 Axes>"
      ]
     },
     "metadata": {
      "needs_background": "light"
     },
     "output_type": "display_data"
    }
   ],
   "source": [
    "mem.showSimplePlot(c_sweep, all_scores)"
   ]
  },
  {
   "cell_type": "markdown",
   "metadata": {},
   "source": [
    "### Mean-Variance plot for accuracy vs C\n",
    "\n",
    "Plot of accuracy vs mean of C and variance of accuracy at each value of C.\n",
    "\n",
    "#### We can see that the model attains the highest accuracy at C = 1"
   ]
  },
  {
   "cell_type": "code",
   "execution_count": 38,
   "metadata": {},
   "outputs": [
    {
     "data": {
      "image/png": "[encoded data removed]",
      "text/plain": [
       "<Figure size 432x288 with 1 Axes>"
      ]
     },
     "metadata": {
      "needs_background": "light"
     },
     "output_type": "display_data"
    }
   ],
   "source": [
    "mem.meanVarianceSpreadPlot(c_sweep, accuracy_parameter_sweep, std_parameter_sweep)"
   ]
  },
  {
   "cell_type": "markdown",
   "metadata": {},
   "source": [
    "### Box Plot\n",
    "A boxplot is a standardized way of displaying the dataset based on a five-number summary: the minimum, the maximum, the sample median, and the first and third quartiles.\n",
    "I have changed the median value of box plot to mean value(average of y). \n",
    "\n",
    "### Violin Plot\n",
    "Both Box plot and Violin Plot show the means of the data as the middle line. Violin plot is similar to box plot but Violin plots also show the probability density of the y value."
   ]
  },
  {
   "cell_type": "code",
   "execution_count": 45,
   "metadata": {},
   "outputs": [
    {
     "data": {
      "text/plain": [
       "array([ 0.0625,  0.25  ,  1.    ,  4.    , 16.    ])"
      ]
     },
     "execution_count": 45,
     "metadata": {},
     "output_type": "execute_result"
    }
   ],
   "source": [
    "c_sweep"
   ]
  },
  {
   "cell_type": "code",
   "execution_count": 52,
   "metadata": {},
   "outputs": [
    {
     "data": {
      "image/png": "[encoded data removed]",
      "text/plain": [
       "<Figure size 1728x864 with 2 Axes>"
      ]
     },
     "metadata": {
      "needs_background": "light"
     },
     "output_type": "display_data"
    }
   ],
   "source": [
    "mem.violinAndBoxPlots(c_sweep, all_scores)"
   ]
  },
  {
   "cell_type": "code",
   "execution_count": null,
   "metadata": {},
   "outputs": [],
   "source": []
  }
 ],
 "metadata": {
  "kernelspec": {
   "display_name": "Python 3",
   "language": "python",
   "name": "python3"
  },
  "language_info": {
   "codemirror_mode": {
    "name": "ipython",
    "version": 3
   },
   "file_extension": ".py",
   "mimetype": "text/x-python",
   "name": "python",
   "nbconvert_exporter": "python",
   "pygments_lexer": "ipython3",
   "version": "3.7.6"
  },
  "pycharm": {
   "stem_cell": {
    "cell_type": "raw",
    "metadata": {
     "collapsed": false
    },
    "source": []
   }
  }
 },
 "nbformat": 4,
 "nbformat_minor": 4
}
